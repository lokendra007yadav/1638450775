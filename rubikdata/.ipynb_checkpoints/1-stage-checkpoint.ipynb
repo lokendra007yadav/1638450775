{
 "cells": [
  {
   "cell_type": "markdown",
   "id": "3e2453d3",
   "metadata": {},
   "source": [
    "# STAGE-1"
   ]
  },
  {
   "cell_type": "markdown",
   "id": "57d50763",
   "metadata": {},
   "source": [
    "Stage 1 - Find recent tweets using the keyword and store the raw data in log files."
   ]
  },
  {
   "cell_type": "code",
   "execution_count": 1,
   "id": "7b229b90",
   "metadata": {},
   "outputs": [],
   "source": [
    "#importing all necessary libraries\n",
    "\n",
    "import tweepy\n",
    "from tweepy import OAuthHandler\n",
    "import json\n",
    "import ndjson\n",
    "import os\n",
    "import datetime"
   ]
  },
  {
   "cell_type": "code",
   "execution_count": 2,
   "id": "ae161e79",
   "metadata": {},
   "outputs": [
    {
     "name": "stdout",
     "output_type": "stream",
     "text": [
      "Authentication OK\n"
     ]
    }
   ],
   "source": [
    "# Authenticate to Twitter\n",
    "access_token = '1399060365699280899-Bhj3sxug8aMaYI2VlaQJ3bq7YWSCgP'\n",
    "access_token_secret = 'FulI9A5S7S4WMRwfESGwy9VjbKnrBt6yRH1nsLrEA7oCw'\n",
    "consumer_key = '1PtTnvyog1efrVGqDvTjA8LgC'\n",
    "consumer_secret = 'J0gGFeL0q1LizyboxS0Si6CMCoxdgNMq3OhylFCOaBex7P3lEK'\n",
    "\n",
    "auth = OAuthHandler(consumer_key, consumer_secret)\n",
    "auth.set_access_token(access_token, access_token_secret)\n",
    "\n",
    "api = tweepy.API(auth)\n",
    "\n",
    "try:\n",
    "    api.verify_credentials()\n",
    "    print(\"Authentication OK\")\n",
    "except:\n",
    "    print(\"Error during authentication\")"
   ]
  },
  {
   "cell_type": "code",
   "execution_count": 3,
   "id": "bbe4e829",
   "metadata": {},
   "outputs": [],
   "source": [
    "#extracting tweets using keyword \n",
    "\n",
    "keyword = str(input('Please enter keyword or hashtag to search: '))     \n",
    "noOfTweet = int(input ('Please enter how many tweets to analyze: '))         #no of tweets want to extract\n",
    "searched_tweets = tweepy.Cursor(api.search_tweets, q=keyword, lang='en').items(noOfTweet)"
   ]
  },
  {
   "cell_type": "code",
   "execution_count": 5,
   "id": "e2b690b5",
   "metadata": {},
   "outputs": [],
   "source": [
    "#creating a dictionary in which we are going to save ourtweets in json format\n",
    "\n",
    "d =[]\n",
    "for i in searched_tweets:\n",
    "    status = i\n",
    "    \n",
    "    json_str = json.dumps(status._json)\n",
    "\n",
    "    parsed = json.loads(json_str)\n",
    "\n",
    "    json.dumps(parsed, indent=4, sort_keys=True)\n",
    "    lst = ['created_at','id_str','text','user','place','geo','coordinates']\n",
    "    \n",
    "    d.append(dict((k, parsed[k]) for k in lst))\n",
    "    \n",
    "with open('data.json', 'w+') as f:          #writing file in jsnn format\n",
    "    json.dump(d, f, indent=4)\n",
    "    \n",
    "with open('data.ndjson', 'w') as f:         #writing file in one liner json format\n",
    "    ndjson.dump(d, f)"
   ]
  },
  {
   "cell_type": "code",
   "execution_count": null,
   "id": "cc5e5f93",
   "metadata": {},
   "outputs": [],
   "source": []
  },
  {
   "cell_type": "code",
   "execution_count": null,
   "id": "a4fffac4",
   "metadata": {},
   "outputs": [],
   "source": []
  }
 ],
 "metadata": {
  "kernelspec": {
   "display_name": "Python 3 (ipykernel)",
   "language": "python",
   "name": "python3"
  },
  "language_info": {
   "codemirror_mode": {
    "name": "ipython",
    "version": 3
   },
   "file_extension": ".py",
   "mimetype": "text/x-python",
   "name": "python",
   "nbconvert_exporter": "python",
   "pygments_lexer": "ipython3",
   "version": "3.8.8"
  }
 },
 "nbformat": 4,
 "nbformat_minor": 5
}
